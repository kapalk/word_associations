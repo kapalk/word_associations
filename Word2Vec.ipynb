{
 "cells": [
  {
   "cell_type": "code",
   "execution_count": 1,
   "metadata": {},
   "outputs": [
    {
     "name": "stderr",
     "output_type": "stream",
     "text": [
      "paramiko missing, opening SSH/SCP/SFTP paths will be disabled.  `pip install paramiko` to suppress\n"
     ]
    }
   ],
   "source": [
    "import pickle\n",
    "import os\n",
    "import nltk\n",
    "\n",
    "from gensim.models import Word2Vec\n",
    "from src.evaluator.evaluator import Word_Associations_Evaluator\n",
    "from tqdm import tqdm"
   ]
  },
  {
   "cell_type": "code",
   "execution_count": 2,
   "metadata": {},
   "outputs": [],
   "source": [
    "# load corpus\n",
    "wd = os.getcwd()\n",
    "data_dir = os.path.join(wd, 'data')\n",
    "with open(os.path.join(data_dir, 'sentences_dump.pkl'), 'rb') as f:\n",
    "    sentences = pickle.load(f)"
   ]
  },
  {
   "cell_type": "code",
   "execution_count": 3,
   "metadata": {},
   "outputs": [],
   "source": [
    "# load country list\n",
    "country_path = os.path.join(wd, 'src', 'wikitravel', 'countries.txt')\n",
    "with open(country_path, 'r') as f:\n",
    "    countries = f.read().lower().split('\\n')"
   ]
  },
  {
   "cell_type": "code",
   "execution_count": 4,
   "metadata": {},
   "outputs": [
    {
     "name": "stderr",
     "output_type": "stream",
     "text": [
      "100%|██████████| 7/7 [15:47<00:00, 143.65s/it]\n",
      "100%|██████████| 7/7 [18:45<00:00, 173.35s/it]\n",
      "100%|██████████| 7/7 [24:19<00:00, 224.53s/it]\n",
      "100%|██████████| 7/7 [34:29<00:00, 322.37s/it]\n"
     ]
    }
   ],
   "source": [
    "# train model with several hyperparametes and evaluate performance\n",
    "evaluator = Word_Associations_Evaluator()\n",
    "lemmatizer=nltk.WordNetLemmatizer()\n",
    "stemmer=nltk.PorterStemmer()\n",
    "performances = []\n",
    "window_sizes = [2, 5, 10, 15, 20, 25, 30]\n",
    "vector_sizes = [100, 200, 300, 500]\n",
    "sampling_method = 'hierarchical'\n",
    "training_algo = 'skip-gram'\n",
    "\n",
    "sg = 0\n",
    "if training_algo == 'skip-gram':\n",
    "    sg = 1\n",
    "hs = 0\n",
    "negative = 5\n",
    "if sampling_method == 'hierarchical':\n",
    "    hs = 1\n",
    "    negative = 0\n",
    "    \n",
    "    \n",
    "for vector_size in vector_sizes:\n",
    "    for window_size in tqdm(window_sizes):\n",
    "        results_all = {}\n",
    "        valid_scores = []\n",
    "        model = Word2Vec(sentences, size=vector_size, window=window_size, sg=sg, hs=hs, \n",
    "                         negative=negative, min_count=1, workers=4)\n",
    "\n",
    "        for country in countries:\n",
    "            try:\n",
    "                country_sl = lemmatizer.lemmatize(stemmer.stem(country))\n",
    "                n_most_similar = [x[0] for x in model.wv.most_similar(country_sl, topn=3)]\n",
    "                score = evaluator.simple_evaluate(country_sl, n_most_similar)\n",
    "            except Exception as e:\n",
    "                #print(e)\n",
    "                score = -1\n",
    "\n",
    "            if score > 0:\n",
    "                valid_scores.append(score)\n",
    "\n",
    "            results_all[country] = score\n",
    "\n",
    "        valid_len = len(valid_scores)\n",
    "        performances.append((vector_size, window_size, sum(valid_scores) / valid_len))"
   ]
  },
  {
   "cell_type": "code",
   "execution_count": 5,
   "metadata": {},
   "outputs": [
    {
     "name": "stdout",
     "output_type": "stream",
     "text": [
      "model params: 10, 100; score: 0.7855072463768116\n"
     ]
    }
   ],
   "source": [
    "# learn optimal model\n",
    "best_vector_size, best_winfod, best_score = max(performances, key=lambda x: x[2])\n",
    "\n",
    "del model\n",
    "optimal_model = Word2Vec(sentences, size=bess_vector_size, window=best_window, \n",
    "                         sg=sg, hs=hs, negative=negative, min_count=1, workers=4)\n",
    "print('model params: {0}, {1}; score: {2}'.format(best_window, bess_vector_size, best_score))"
   ]
  },
  {
   "cell_type": "code",
   "execution_count": 6,
   "metadata": {},
   "outputs": [],
   "source": [
    "optimal_model.wv.save_word2vec_format(os.path.join(wd, 'model.bin'), binary=True)"
   ]
  }
 ],
 "metadata": {
  "kernelspec": {
   "display_name": "wa_venv",
   "language": "python",
   "name": "wa_venv"
  },
  "language_info": {
   "codemirror_mode": {
    "name": "ipython",
    "version": 3
   },
   "file_extension": ".py",
   "mimetype": "text/x-python",
   "name": "python",
   "nbconvert_exporter": "python",
   "pygments_lexer": "ipython3",
   "version": "3.7.2"
  }
 },
 "nbformat": 4,
 "nbformat_minor": 2
}
