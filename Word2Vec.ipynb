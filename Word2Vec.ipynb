{
 "cells": [
  {
   "cell_type": "code",
   "execution_count": 1,
   "metadata": {},
   "outputs": [],
   "source": [
    "import pickle\n",
    "import os\n",
    "import nltk\n",
    "\n",
    "from gensim.models import Word2Vec\n",
    "from src.evaluator.evaluator import Word_Associations_Evaluator\n",
    "from tqdm import tqdm"
   ]
  },
  {
   "cell_type": "code",
   "execution_count": 2,
   "metadata": {},
   "outputs": [],
   "source": [
    "# load corpus\n",
    "wd = os.getcwd()\n",
    "data_dir = os.path.join(wd, 'data')\n",
    "with open(os.path.join(data_dir, 'sentences_dump.pkl'), 'rb') as f:\n",
    "    sentences = pickle.load(f)"
   ]
  },
  {
   "cell_type": "code",
   "execution_count": 3,
   "metadata": {},
   "outputs": [],
   "source": [
    "# load country list\n",
    "country_path = os.path.join(wd, 'src', 'wikitravel', 'countries.txt')\n",
    "with open(country_path, 'r') as f:\n",
    "    countries = f.read().lower().split('\\n')"
   ]
  },
  {
   "cell_type": "code",
   "execution_count": 4,
   "metadata": {},
   "outputs": [
    {
     "name": "stderr",
     "output_type": "stream",
     "text": [
      "100%|██████████| 7/7 [17:37<00:00, 159.93s/it]\n",
      "100%|██████████| 7/7 [17:56<00:00, 167.36s/it]\n",
      "100%|██████████| 7/7 [11:09<00:00, 95.32s/it]\n",
      "100%|██████████| 7/7 [09:18<00:00, 80.15s/it]\n"
     ]
    }
   ],
   "source": [
    "# train model with several hyperparametes and evaluate performance\n",
    "evaluator = Word_Associations_Evaluator()\n",
    "lemmatizer=nltk.WordNetLemmatizer()\n",
    "stemmer=nltk.PorterStemmer()\n",
    "performances = {}\n",
    "window_sizes = [2, 5, 10, 15, 20, 25, 30]\n",
    "sampling_methods = ['hierarchical', 'negative']\n",
    "training_algos = ['skip-gram', 'cbow']\n",
    "\n",
    "for training_algo in training_algos:\n",
    "    sg = 0\n",
    "    if training_algo == 'skip-gram':\n",
    "        sg = 1\n",
    "    performances[training_algo] = {}\n",
    "    \n",
    "    for sampling_method in sampling_methods:\n",
    "        hs = 0\n",
    "        negative = 5\n",
    "        if sampling_method == 'hierarchical':\n",
    "            hs = 1\n",
    "            negative = 0\n",
    "        \n",
    "        perf = []\n",
    "        for window_size in tqdm(window_sizes):\n",
    "            results_all = {}\n",
    "            valid_scores = []\n",
    "            model = Word2Vec(sentences, size=100, window=window_size, sg=sg, hs=hs, \n",
    "                             negative=negative, min_count=1, workers=4)\n",
    "            \n",
    "            for country in countries:\n",
    "                try:\n",
    "                    country_sl = lemmatizer.lemmatize(stemmer.stem(country))\n",
    "                    n_most_similar = [x[0] for x in model.wv.most_similar(country_sl, topn=3)]\n",
    "                    score = evaluator.simple_evaluate(country_sl, n_most_similar)\n",
    "                except Exception as e:\n",
    "                    #print(e)\n",
    "                    score = -1\n",
    "\n",
    "                if score > 0:\n",
    "                    valid_scores.append(score)\n",
    "\n",
    "                results_all[country] = score\n",
    "\n",
    "            valid_len = len(valid_scores)\n",
    "            perf.append((sum(valid_scores) / valid_len, window_size))\n",
    "            \n",
    "        performances[training_algo][sampling_method] = perf"
   ]
  },
  {
   "cell_type": "code",
   "execution_count": 31,
   "metadata": {},
   "outputs": [],
   "source": [
    "# learn optimal model\n",
    "best_score = 0\n",
    "for training_algo in performances.keys():\n",
    "    for sampling_algo in performances[training_algo]:\n",
    "        best_candidate = max(performances[training_algo][sampling_algo], key=lambda x: x[0])\n",
    "        if best_candidate[0] > best_score:\n",
    "            best_score = best_candidate[0]\n",
    "            best_window = best_candidate[1]\n",
    "            best_algo = training_algo\n",
    "            best_sampling = sampling_algo\n",
    "\n",
    "hs = 0\n",
    "negative = 5\n",
    "if best_sampling == 'hierarchical':\n",
    "    hs = 1\n",
    "    negative = 0\n",
    "sg = 0\n",
    "if best_algo == 'skip-gram':\n",
    "    sg = 1\n",
    "\n",
    "del model\n",
    "optimal_model = Word2Vec(sentences, size=100, window=best_window, \n",
    "                         sg=sg, hs=hs, negative=negative, min_count=1, workers=4)            "
   ]
  },
  {
   "cell_type": "code",
   "execution_count": 32,
   "metadata": {},
   "outputs": [],
   "source": [
    "optimal_model.wv.save_word2vec_format(os.path.join(wd, 'model.bin'), binary=True)"
   ]
  }
 ],
 "metadata": {
  "kernelspec": {
   "display_name": "wa_venv",
   "language": "python",
   "name": "wa_venv"
  },
  "language_info": {
   "codemirror_mode": {
    "name": "ipython",
    "version": 3
   },
   "file_extension": ".py",
   "mimetype": "text/x-python",
   "name": "python",
   "nbconvert_exporter": "python",
   "pygments_lexer": "ipython3",
   "version": "3.5.2"
  }
 },
 "nbformat": 4,
 "nbformat_minor": 2
}
