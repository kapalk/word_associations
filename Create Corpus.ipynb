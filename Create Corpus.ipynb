{
 "cells": [
  {
   "cell_type": "code",
   "execution_count": 1,
   "metadata": {},
   "outputs": [
    {
     "name": "stderr",
     "output_type": "stream",
     "text": [
      "[nltk_data] Error loading punkt: <urlopen error [SSL:\n",
      "[nltk_data]     CERTIFICATE_VERIFY_FAILED] certificate verify failed:\n",
      "[nltk_data]     unable to get local issuer certificate (_ssl.c:1056)>\n",
      "[nltk_data] Error loading wordnet: <urlopen error [SSL:\n",
      "[nltk_data]     CERTIFICATE_VERIFY_FAILED] certificate verify failed:\n",
      "[nltk_data]     unable to get local issuer certificate (_ssl.c:1056)>\n",
      "[nltk_data] Error loading stopwords: <urlopen error [SSL:\n",
      "[nltk_data]     CERTIFICATE_VERIFY_FAILED] certificate verify failed:\n",
      "[nltk_data]     unable to get local issuer certificate (_ssl.c:1056)>\n"
     ]
    }
   ],
   "source": [
    "import pandas as pd\n",
    "import os\n",
    "import pickle\n",
    "import nltk\n",
    "nltk.download('punkt')\n",
    "nltk.download('wordnet')\n",
    "nltk.download('stopwords')\n",
    "\n",
    "from nltk.corpus.reader.plaintext import PlaintextCorpusReader\n",
    "from nltk.corpus.reader.util import read_line_block\n",
    "from nltk.corpus import stopwords\n",
    "from tqdm import tqdm\n"
   ]
  },
  {
   "cell_type": "code",
   "execution_count": 2,
   "metadata": {},
   "outputs": [],
   "source": [
    "# load data\n",
    "filename = '2018.csv'\n",
    "wd = os.getcwd()\n",
    "data_dir = os.path.join(wd, 'data')\n",
    "raw_data = pd.read_csv(os.path.join(data_dir, filename), header=None, skiprows=1)"
   ]
  },
  {
   "cell_type": "code",
   "execution_count": 3,
   "metadata": {},
   "outputs": [],
   "source": [
    "# preprocess data\n",
    "filename_pp = 'preprocessed.csv'\n",
    "data = raw_data[raw_data.iloc[:, 0] != '[deleted]']\n",
    "data = data[data.iloc[:, 0] != '[removed]']\n",
    "data.to_csv(os.path.join(data_dir, filename_pp), header=False, index=False)"
   ]
  },
  {
   "cell_type": "code",
   "execution_count": 4,
   "metadata": {},
   "outputs": [],
   "source": [
    "# create corpus\n",
    "newcorpus = PlaintextCorpusReader(data_dir, fileids=filename_pp, para_block_reader=read_line_block)"
   ]
  },
  {
   "cell_type": "code",
   "execution_count": 5,
   "metadata": {},
   "outputs": [
    {
     "name": "stderr",
     "output_type": "stream",
     "text": [
      "100%|██████████| 1178813/1178813 [58:22<00:00, 336.56it/s] \n"
     ]
    }
   ],
   "source": [
    "# preprocess corpus\n",
    "stemmer=nltk.PorterStemmer()\n",
    "lemmatizer=nltk.WordNetLemmatizer()\n",
    "sentences = []\n",
    "\n",
    "for sent in tqdm(newcorpus.sents()):\n",
    "    sent_processed = []\n",
    "    \n",
    "    for w in sent:\n",
    "        w = w.lower()\n",
    "        if not w.isalpha():\n",
    "            continue # remove punctuation\n",
    "        if w in stopwords.words('english'):\n",
    "            continue # remove stopwords\n",
    "        if stemmer:\n",
    "            w = stemmer.stem(w)\n",
    "        if lemmatizer:\n",
    "            w = lemmatizer.lemmatize(w)\n",
    "        sent_processed.append(w)\n",
    "        \n",
    "    if sent_processed:\n",
    "        sentences.append(sent_processed)"
   ]
  },
  {
   "cell_type": "code",
   "execution_count": 6,
   "metadata": {},
   "outputs": [],
   "source": [
    "with open(os.path.join(data_dir,'sentences_dump.pkl'), 'wb') as f:\n",
    "    pickle.dump(sentences, f)"
   ]
  }
 ],
 "metadata": {
  "kernelspec": {
   "display_name": "wa_venv",
   "language": "python",
   "name": "wa_venv"
  },
  "language_info": {
   "codemirror_mode": {
    "name": "ipython",
    "version": 3
   },
   "file_extension": ".py",
   "mimetype": "text/x-python",
   "name": "python",
   "nbconvert_exporter": "python",
   "pygments_lexer": "ipython3",
   "version": "3.7.2"
  }
 },
 "nbformat": 4,
 "nbformat_minor": 2
}
